{
 "cells": [
  {
   "cell_type": "code",
   "execution_count": 2,
   "id": "a7a27973",
   "metadata": {},
   "outputs": [
    {
     "name": "stdout",
     "output_type": "stream",
     "text": [
      "✅ 현재 폰트 적용됨: Arial Unicode MS\n"
     ]
    },
    {
     "data": {
      "text/plain": [
       "<pltfont.FontManager at 0x1484e59d0>"
      ]
     },
     "execution_count": 2,
     "metadata": {},
     "output_type": "execute_result"
    }
   ],
   "source": [
    "import os\n",
    "import pandas as pd \n",
    "import numpy \n",
    "import matplotlib.pyplot as plt\n",
    "import seaborn as sns\n",
    "import pltfont\n",
    "pltfont.auto()"
   ]
  },
  {
   "cell_type": "code",
   "execution_count": 3,
   "id": "eccbf2b0",
   "metadata": {},
   "outputs": [
    {
     "data": {
      "text/plain": [
       "['distribution_centers_gzip.parquet',\n",
       " 'inventory_items_gzip.parquet',\n",
       " 'order_items_gzip.parquet',\n",
       " 'orders_gzip.parquet',\n",
       " 'products_gzip.parquet',\n",
       " 'users_gzip.parquet']"
      ]
     },
     "execution_count": 3,
     "metadata": {},
     "output_type": "execute_result"
    }
   ],
   "source": [
    "data_path = \"/Users/jun/GitStudy/commerceAB/data/thelook_ecommerce\"\n",
    "data_list = os.listdir(data_path)\n",
    "data_list.sort()\n",
    "data_list"
   ]
  },
  {
   "cell_type": "code",
   "execution_count": 4,
   "id": "0e936360",
   "metadata": {},
   "outputs": [
    {
     "data": {
      "text/plain": [
       "['distribution_centers',\n",
       " 'inventory_items',\n",
       " 'order_items',\n",
       " 'orders',\n",
       " 'products',\n",
       " 'users']"
      ]
     },
     "execution_count": 4,
     "metadata": {},
     "output_type": "execute_result"
    }
   ],
   "source": [
    "cols = [i.rstrip(\"_gzip.parquet\") for i in data_list ]\n",
    "\n",
    "cols"
   ]
  },
  {
   "cell_type": "code",
   "execution_count": 5,
   "id": "8f680b69",
   "metadata": {},
   "outputs": [],
   "source": [
    "products_file_path = data_path + \"/products_gzip.parquet\"\n",
    "products_df = pd.read_parquet(products_file_path, engine='pyarrow')  # 또는 engine='fastparquet'"
   ]
  },
  {
   "cell_type": "code",
   "execution_count": 6,
   "id": "d9a078d3",
   "metadata": {},
   "outputs": [
    {
     "name": "stdout",
     "output_type": "stream",
     "text": [
      "<class 'pandas.core.frame.DataFrame'>\n",
      "RangeIndex: 29120 entries, 0 to 29119\n",
      "Data columns (total 9 columns):\n",
      " #   Column                  Non-Null Count  Dtype  \n",
      "---  ------                  --------------  -----  \n",
      " 0   id                      29120 non-null  Int64  \n",
      " 1   cost                    29120 non-null  float64\n",
      " 2   category                29120 non-null  object \n",
      " 3   name                    29118 non-null  object \n",
      " 4   brand                   29096 non-null  object \n",
      " 5   retail_price            29120 non-null  float64\n",
      " 6   department              29120 non-null  object \n",
      " 7   sku                     29120 non-null  object \n",
      " 8   distribution_center_id  29120 non-null  Int64  \n",
      "dtypes: Int64(2), float64(2), object(5)\n",
      "memory usage: 2.1+ MB\n"
     ]
    }
   ],
   "source": [
    "products_df.info()"
   ]
  },
  {
   "cell_type": "code",
   "execution_count": 7,
   "id": "b6f512e0",
   "metadata": {},
   "outputs": [
    {
     "data": {
      "text/html": [
       "<div>\n",
       "<style scoped>\n",
       "    .dataframe tbody tr th:only-of-type {\n",
       "        vertical-align: middle;\n",
       "    }\n",
       "\n",
       "    .dataframe tbody tr th {\n",
       "        vertical-align: top;\n",
       "    }\n",
       "\n",
       "    .dataframe thead th {\n",
       "        text-align: right;\n",
       "    }\n",
       "</style>\n",
       "<table border=\"1\" class=\"dataframe\">\n",
       "  <thead>\n",
       "    <tr style=\"text-align: right;\">\n",
       "      <th></th>\n",
       "      <th>id</th>\n",
       "      <th>cost</th>\n",
       "      <th>category</th>\n",
       "      <th>name</th>\n",
       "      <th>brand</th>\n",
       "      <th>retail_price</th>\n",
       "      <th>department</th>\n",
       "      <th>sku</th>\n",
       "      <th>distribution_center_id</th>\n",
       "    </tr>\n",
       "  </thead>\n",
       "  <tbody>\n",
       "    <tr>\n",
       "      <th>count</th>\n",
       "      <td>29120.0</td>\n",
       "      <td>29120.000000</td>\n",
       "      <td>29120</td>\n",
       "      <td>29118</td>\n",
       "      <td>29096</td>\n",
       "      <td>29120.000000</td>\n",
       "      <td>29120</td>\n",
       "      <td>29120</td>\n",
       "      <td>29120.0</td>\n",
       "    </tr>\n",
       "    <tr>\n",
       "      <th>unique</th>\n",
       "      <td>&lt;NA&gt;</td>\n",
       "      <td>NaN</td>\n",
       "      <td>26</td>\n",
       "      <td>27309</td>\n",
       "      <td>2756</td>\n",
       "      <td>NaN</td>\n",
       "      <td>2</td>\n",
       "      <td>29120</td>\n",
       "      <td>&lt;NA&gt;</td>\n",
       "    </tr>\n",
       "    <tr>\n",
       "      <th>top</th>\n",
       "      <td>&lt;NA&gt;</td>\n",
       "      <td>NaN</td>\n",
       "      <td>Intimates</td>\n",
       "      <td>Wrangler Men's Premium Performance Cowboy Cut ...</td>\n",
       "      <td>Allegra K</td>\n",
       "      <td>NaN</td>\n",
       "      <td>Women</td>\n",
       "      <td>EBD58B8A3F1D72F4206201DA62FB1204</td>\n",
       "      <td>&lt;NA&gt;</td>\n",
       "    </tr>\n",
       "    <tr>\n",
       "      <th>freq</th>\n",
       "      <td>&lt;NA&gt;</td>\n",
       "      <td>NaN</td>\n",
       "      <td>2363</td>\n",
       "      <td>8</td>\n",
       "      <td>1034</td>\n",
       "      <td>NaN</td>\n",
       "      <td>15989</td>\n",
       "      <td>1</td>\n",
       "      <td>&lt;NA&gt;</td>\n",
       "    </tr>\n",
       "    <tr>\n",
       "      <th>mean</th>\n",
       "      <td>14560.5</td>\n",
       "      <td>28.481774</td>\n",
       "      <td>NaN</td>\n",
       "      <td>NaN</td>\n",
       "      <td>NaN</td>\n",
       "      <td>59.220164</td>\n",
       "      <td>NaN</td>\n",
       "      <td>NaN</td>\n",
       "      <td>4.982898</td>\n",
       "    </tr>\n",
       "    <tr>\n",
       "      <th>std</th>\n",
       "      <td>8406.364256</td>\n",
       "      <td>30.624681</td>\n",
       "      <td>NaN</td>\n",
       "      <td>NaN</td>\n",
       "      <td>NaN</td>\n",
       "      <td>65.888927</td>\n",
       "      <td>NaN</td>\n",
       "      <td>NaN</td>\n",
       "      <td>2.901153</td>\n",
       "    </tr>\n",
       "    <tr>\n",
       "      <th>min</th>\n",
       "      <td>1.0</td>\n",
       "      <td>0.008300</td>\n",
       "      <td>NaN</td>\n",
       "      <td>NaN</td>\n",
       "      <td>NaN</td>\n",
       "      <td>0.020000</td>\n",
       "      <td>NaN</td>\n",
       "      <td>NaN</td>\n",
       "      <td>1.0</td>\n",
       "    </tr>\n",
       "    <tr>\n",
       "      <th>25%</th>\n",
       "      <td>7280.75</td>\n",
       "      <td>11.275613</td>\n",
       "      <td>NaN</td>\n",
       "      <td>NaN</td>\n",
       "      <td>NaN</td>\n",
       "      <td>24.000000</td>\n",
       "      <td>NaN</td>\n",
       "      <td>NaN</td>\n",
       "      <td>2.0</td>\n",
       "    </tr>\n",
       "    <tr>\n",
       "      <th>50%</th>\n",
       "      <td>14560.5</td>\n",
       "      <td>19.675081</td>\n",
       "      <td>NaN</td>\n",
       "      <td>NaN</td>\n",
       "      <td>NaN</td>\n",
       "      <td>39.990002</td>\n",
       "      <td>NaN</td>\n",
       "      <td>NaN</td>\n",
       "      <td>5.0</td>\n",
       "    </tr>\n",
       "    <tr>\n",
       "      <th>75%</th>\n",
       "      <td>21840.25</td>\n",
       "      <td>34.440000</td>\n",
       "      <td>NaN</td>\n",
       "      <td>NaN</td>\n",
       "      <td>NaN</td>\n",
       "      <td>69.949997</td>\n",
       "      <td>NaN</td>\n",
       "      <td>NaN</td>\n",
       "      <td>8.0</td>\n",
       "    </tr>\n",
       "    <tr>\n",
       "      <th>max</th>\n",
       "      <td>29120.0</td>\n",
       "      <td>557.151002</td>\n",
       "      <td>NaN</td>\n",
       "      <td>NaN</td>\n",
       "      <td>NaN</td>\n",
       "      <td>999.000000</td>\n",
       "      <td>NaN</td>\n",
       "      <td>NaN</td>\n",
       "      <td>10.0</td>\n",
       "    </tr>\n",
       "  </tbody>\n",
       "</table>\n",
       "</div>"
      ],
      "text/plain": [
       "                 id          cost   category  \\\n",
       "count       29120.0  29120.000000      29120   \n",
       "unique         <NA>           NaN         26   \n",
       "top            <NA>           NaN  Intimates   \n",
       "freq           <NA>           NaN       2363   \n",
       "mean        14560.5     28.481774        NaN   \n",
       "std     8406.364256     30.624681        NaN   \n",
       "min             1.0      0.008300        NaN   \n",
       "25%         7280.75     11.275613        NaN   \n",
       "50%         14560.5     19.675081        NaN   \n",
       "75%        21840.25     34.440000        NaN   \n",
       "max         29120.0    557.151002        NaN   \n",
       "\n",
       "                                                     name      brand  \\\n",
       "count                                               29118      29096   \n",
       "unique                                              27309       2756   \n",
       "top     Wrangler Men's Premium Performance Cowboy Cut ...  Allegra K   \n",
       "freq                                                    8       1034   \n",
       "mean                                                  NaN        NaN   \n",
       "std                                                   NaN        NaN   \n",
       "min                                                   NaN        NaN   \n",
       "25%                                                   NaN        NaN   \n",
       "50%                                                   NaN        NaN   \n",
       "75%                                                   NaN        NaN   \n",
       "max                                                   NaN        NaN   \n",
       "\n",
       "        retail_price department                               sku  \\\n",
       "count   29120.000000      29120                             29120   \n",
       "unique           NaN          2                             29120   \n",
       "top              NaN      Women  EBD58B8A3F1D72F4206201DA62FB1204   \n",
       "freq             NaN      15989                                 1   \n",
       "mean       59.220164        NaN                               NaN   \n",
       "std        65.888927        NaN                               NaN   \n",
       "min         0.020000        NaN                               NaN   \n",
       "25%        24.000000        NaN                               NaN   \n",
       "50%        39.990002        NaN                               NaN   \n",
       "75%        69.949997        NaN                               NaN   \n",
       "max       999.000000        NaN                               NaN   \n",
       "\n",
       "        distribution_center_id  \n",
       "count                  29120.0  \n",
       "unique                    <NA>  \n",
       "top                       <NA>  \n",
       "freq                      <NA>  \n",
       "mean                  4.982898  \n",
       "std                   2.901153  \n",
       "min                        1.0  \n",
       "25%                        2.0  \n",
       "50%                        5.0  \n",
       "75%                        8.0  \n",
       "max                       10.0  "
      ]
     },
     "execution_count": 7,
     "metadata": {},
     "output_type": "execute_result"
    }
   ],
   "source": [
    "products_df.describe(include='all',datetime_is_numeric=True)"
   ]
  },
  {
   "cell_type": "code",
   "execution_count": 8,
   "id": "9d2bdfab",
   "metadata": {},
   "outputs": [
    {
     "data": {
      "text/plain": [
       "id                         0\n",
       "cost                       0\n",
       "category                   0\n",
       "name                       2\n",
       "brand                     24\n",
       "retail_price               0\n",
       "department                 0\n",
       "sku                        0\n",
       "distribution_center_id     0\n",
       "dtype: int64"
      ]
     },
     "execution_count": 8,
     "metadata": {},
     "output_type": "execute_result"
    }
   ],
   "source": [
    "products_df.isnull().sum()"
   ]
  },
  {
   "cell_type": "code",
   "execution_count": 9,
   "id": "c9c6a059",
   "metadata": {},
   "outputs": [
    {
     "data": {
      "image/png": "[encoded data removed]",
      "text/plain": [
       "<Figure size 800x500 with 1 Axes>"
      ]
     },
     "metadata": {},
     "output_type": "display_data"
    }
   ],
   "source": [
    "plt.figure(figsize=(8,5))  # 전체 그림 크기 지정\n",
    "sns.heatmap(products_df.isnull(), cbar=False)\n",
    "plt.xticks(rotation=27)  # x축 라벨 기울이기\n",
    "plt.show()"
   ]
  },
  {
   "cell_type": "code",
   "execution_count": null,
   "id": "ed3ad95a",
   "metadata": {},
   "outputs": [],
   "source": []
  }
 ],
 "metadata": {
  "kernelspec": {
   "display_name": "leo4study",
   "language": "python",
   "name": "python3"
  },
  "language_info": {
   "codemirror_mode": {
    "name": "ipython",
    "version": 3
   },
   "file_extension": ".py",
   "mimetype": "text/x-python",
   "name": "python",
   "nbconvert_exporter": "python",
   "pygments_lexer": "ipython3",
   "version": "3.11.9"
  }
 },
 "nbformat": 4,
 "nbformat_minor": 5
}
