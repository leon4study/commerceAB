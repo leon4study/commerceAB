{
 "cells": [
  {
   "cell_type": "code",
   "execution_count": null,
   "id": "422ef065",
   "metadata": {},
   "outputs": [
    {
     "name": "stderr",
     "output_type": "stream",
     "text": [
      "2025-10-08 22:35:37,901 - INFO - ✅ BigQuery 인증 성공\n"
     ]
    },
    {
     "name": "stdout",
     "output_type": "stream",
     "text": [
      "[distribution_centers] 다운로드 시도 1/3[events] 다운로드 시도 1/3\n",
      "[inventory_items] 다운로드 시도 1/3\n",
      "\n",
      "[order_items] 다운로드 시도 1/3\n",
      "[orders] 다운로드 시도 1/3\n",
      "[products] 다운로드 시도 1/3\n",
      "[users] 다운로드 시도 1/3\n"
     ]
    },
    {
     "name": "stderr",
     "output_type": "stream",
     "text": [
      "/opt/homebrew/Caskroom/miniconda/base/envs/leo4study/lib/python3.11/site-packages/google/cloud/bigquery/table.py:1994: UserWarning: BigQuery Storage module not found, fetch data with the REST endpoint instead.\n",
      "  warnings.warn(\n",
      "2025-10-08 22:35:41,198 - INFO - ✅ distribution_centers 저장 완료 : /Users/jun/GitStudy/commerceAB/data/distribution_centers_gzip.parquet\n",
      "\n"
     ]
    },
    {
     "name": "stdout",
     "output_type": "stream",
     "text": [
      "✅ Saved: /Users/jun/GitStudy/commerceAB/data/distribution_centers_gzip.parquet\n",
      "\n"
     ]
    },
    {
     "name": "stderr",
     "output_type": "stream",
     "text": [
      "/opt/homebrew/Caskroom/miniconda/base/envs/leo4study/lib/python3.11/site-packages/google/cloud/bigquery/table.py:1994: UserWarning: BigQuery Storage module not found, fetch data with the REST endpoint instead.\n",
      "  warnings.warn(\n",
      "2025-10-08 22:35:49,278 - INFO - ✅ products 저장 완료 : /Users/jun/GitStudy/commerceAB/data/products_gzip.parquet\n",
      "\n"
     ]
    },
    {
     "name": "stdout",
     "output_type": "stream",
     "text": [
      "✅ Saved: /Users/jun/GitStudy/commerceAB/data/products_gzip.parquet\n",
      "\n"
     ]
    },
    {
     "name": "stderr",
     "output_type": "stream",
     "text": [
      "2025-10-08 22:35:53,652 - INFO - ✅ users 저장 완료 : /Users/jun/GitStudy/commerceAB/data/users_gzip.parquet\n",
      "\n"
     ]
    },
    {
     "name": "stdout",
     "output_type": "stream",
     "text": [
      "✅ Saved: /Users/jun/GitStudy/commerceAB/data/users_gzip.parquet\n",
      "\n"
     ]
    },
    {
     "name": "stderr",
     "output_type": "stream",
     "text": [
      "2025-10-08 22:36:01,416 - INFO - ✅ orders 저장 완료 : /Users/jun/GitStudy/commerceAB/data/orders_gzip.parquet\n",
      "\n"
     ]
    },
    {
     "name": "stdout",
     "output_type": "stream",
     "text": [
      "✅ Saved: /Users/jun/GitStudy/commerceAB/data/orders_gzip.parquet\n",
      "\n"
     ]
    },
    {
     "name": "stderr",
     "output_type": "stream",
     "text": [
      "2025-10-08 22:36:20,195 - INFO - ✅ order_items 저장 완료 : /Users/jun/GitStudy/commerceAB/data/order_items_gzip.parquet\n",
      "\n"
     ]
    },
    {
     "name": "stdout",
     "output_type": "stream",
     "text": [
      "✅ Saved: /Users/jun/GitStudy/commerceAB/data/order_items_gzip.parquet\n",
      "\n"
     ]
    },
    {
     "name": "stderr",
     "output_type": "stream",
     "text": [
      "2025-10-08 22:36:43,020 - INFO - ✅ inventory_items 저장 완료 : /Users/jun/GitStudy/commerceAB/data/inventory_items_gzip.parquet\n",
      "\n"
     ]
    },
    {
     "name": "stdout",
     "output_type": "stream",
     "text": [
      "✅ Saved: /Users/jun/GitStudy/commerceAB/data/inventory_items_gzip.parquet\n",
      "\n"
     ]
    }
   ],
   "source": [
    "from google.cloud import bigquery\n",
    "import pandas as pd\n",
    "import concurrent.futures\n",
    "import os\n",
    "import time\n",
    "import logging\n",
    "import datetime\n",
    "import sys\n",
    "import DBbtypes #코드에서 사용은 안 하지만 pip install 받아야 함.\n",
    "\n",
    "\n",
    "path = \"/Users/jun/GitStudy/commerceAB\"\n",
    "data_path = os.path.join(path, 'data')\n",
    "thelook_ecommerce_path = os.path.join(data_path, \"thelook_ecommerce\")\n",
    "os.makedirs(path, exist_ok=True)\n",
    "\n",
    "# 로그 저장 위치\n",
    "log_file = f\"{path}/download_tables.log\"\n",
    "logging.basicConfig(\n",
    "    level=logging.INFO,\n",
    "    format=\"%(asctime)s - %(levelname)s - %(message)s\",\n",
    "    handlers=[\n",
    "        logging.FileHandler(log_file, mode='a'),\n",
    "        logging.StreamHandler()  # 콘솔 출력도 유지\n",
    "    ]\n",
    ")\n",
    "\n",
    "logger = logging.getLogger(\"BQ_Downloader\")\n",
    "\n",
    "# BigQuery Client 생성 및 인증 테스트\n",
    "try:\n",
    "    client = bigquery.Client(project=\"promotionab\")\n",
    "    # 간단한 쿼리로 인증 확인\n",
    "    client.query(\"SELECT 1\").result()\n",
    "    logger.info(\"✅ BigQuery 인증 성공\")\n",
    "except Exception as e:\n",
    "    logger.error(f\"❌ BigQuery 인증 실패: {e}\")\n",
    "    print(f\"❌ BigQuery 인증 실패: {e}\")\n",
    "    sys.exit(1)  # 인증 실패 시 종료\n",
    "\n",
    "\n",
    "client = bigquery.Client(project=\"promotionab\")\n",
    "\n",
    "tables = {\n",
    "    \"distribution_centers\": [\"id\", \"name\", \"latitude\", \"longitude\", \"distribution_center_geom\"],\n",
    "    \"events\": [\"id\", \"user_id\", \"sequence_number\", \"session_id\", \"state\", \"city\", \"postal_code\", \"browser\", \"traffic_source\", \"uri\", \"event_type\"],\n",
    "    \"inventory_items\": [\"id\", \"product_id\", \"created_at\", \"sold_at\", \"product_sku\", \"product_distribution_center_id\", \"product_department\"],\n",
    "    \"order_items\": [\"id\", \"order_id\", \"user_id\", \"product_id\", \"inventory_item_id\", \"status\", \"created_at\", \"shipped_at\", \"delivered_at\", \"returned_at\", \"sale_price\"],\n",
    "    \"orders\": [ \"order_id\", \"user_id\", \"status\", \"gender\", \"created_at\", \"returned_at\", \"shipped_at\", \"delivered_at\", \"num_of_item\"],\n",
    "    \"products\": [\"id\", \"cost\", \"category\", \"name\", \"brand\", \"retail_price\", \"department\", \"sku\", \"distribution_center_id\"],\n",
    "    \"users\": [\"id\", \"age\", \"gender\", \"state\", \"city\", \"created_at\", \"traffic_source\"]\n",
    "}\n",
    "\n",
    "def download_table(table, cols, max_retries=3):\n",
    "    \"\"\"BigQuery 테이블을 parquet로 다운로드. 실패 시 재시도 (fallback)\"\"\"\n",
    "    cols_str = \", \".join(cols)\n",
    "    query = f\"SELECT {cols_str} FROM `bigquery-public-data.thelook_ecommerce.{table}`\"\n",
    "    parquet_path = f\"{thelook_ecommerce_path}/{table}_gzip.parquet\"\n",
    "\n",
    "    for attempt in range(1, max_retries + 1):\n",
    "        try:\n",
    "            print(f\"[{table}] 다운로드 시도 {attempt}/{max_retries}\")\n",
    "            df = client.query(query).to_dataframe()\n",
    "            df.to_parquet(parquet_path, index=False, compression=\"gzip\")\n",
    "            logger.info(f\"✅ {table} 저장 완료 : {parquet_path}\\n\")\n",
    "            print(f\"✅ Saved: {parquet_path}\\n\")\n",
    "            return  # 성공 시 함수 종료\n",
    "        except Exception as e:\n",
    "            logger.warning(f\"⚠️ {table} 다운로드 실패 (시도 {attempt}): {e}\")\n",
    "            print(f\"⚠️ {table} 실패 (시도 {attempt}): {e}\")\n",
    "            time.sleep(3 * attempt)  # 재시도 간 지연 (지수 백오프)\n",
    "    \n",
    "    # 모든 재시도 실패 시\n",
    "    logger.error(f\"❌ {table} 완전 실패, 로그에 기록됨.\")\n",
    "    with open(f\"{path}/failed_tables.log\", \"a\") as f:\n",
    "        f.write(f\"{datetime.now().isoformat()} - {table} failed after {max_retries} attempts\\n\")\n",
    "    print(f\"❌ {table} 완전 실패, 로그에 기록됨.\\n\")\n",
    "\n",
    "\n",
    "# 병렬 실행\n",
    "with concurrent.futures.ThreadPoolExecutor(max_workers=8) as executor:\n",
    "    futures = [executor.submit(download_table, t, c) for t, c in tables.items()]\n",
    "    concurrent.futures.wait(futures)\n",
    "    executor.shutdown(wait=True)\n",
    "\n",
    "print(\"✅ 모든 테이블 다운로드 완료\")\n",
    "sys.exit(0)\n"
   ]
  },
  {
   "cell_type": "code",
   "execution_count": null,
   "id": "4626e841",
   "metadata": {},
   "outputs": [],
   "source": []
  }
 ],
 "metadata": {
  "kernelspec": {
   "display_name": "leo4study",
   "language": "python",
   "name": "python3"
  },
  "language_info": {
   "codemirror_mode": {
    "name": "ipython",
    "version": 3
   },
   "file_extension": ".py",
   "mimetype": "text/x-python",
   "name": "python",
   "nbconvert_exporter": "python",
   "pygments_lexer": "ipython3",
   "version": "3.11.9"
  }
 },
 "nbformat": 4,
 "nbformat_minor": 5
}
