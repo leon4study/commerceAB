{
 "cells": [
  {
   "cell_type": "code",
   "execution_count": 3,
   "id": "a7a27973",
   "metadata": {},
   "outputs": [],
   "source": [
    "import os\n",
    "import pandas as pd \n",
    "import numpy \n",
    "import matplotlib.pyplot as plt\n",
    "import seaborn as sns\n",
    "import pltfont"
   ]
  },
  {
   "cell_type": "code",
   "execution_count": 5,
   "id": "a7f7ba3f",
   "metadata": {},
   "outputs": [
    {
     "name": "stdout",
     "output_type": "stream",
     "text": [
      "✅ 현재 폰트 적용됨: Arial Unicode MS\n"
     ]
    },
    {
     "data": {
      "text/plain": [
       "<pltfont.FontManager at 0x16411df90>"
      ]
     },
     "execution_count": 5,
     "metadata": {},
     "output_type": "execute_result"
    }
   ],
   "source": [
    "pltfont.auto()"
   ]
  },
  {
   "cell_type": "code",
   "execution_count": null,
   "id": "af18eea4",
   "metadata": {},
   "outputs": [
    {
     "name": "stdout",
     "output_type": "stream",
     "text": [
      "1. Arial Unicode MS\n",
      "2. DungGeunMo\n",
      "3. Intel One Mono\n",
      "Arial Unicode MS\n",
      "DungGeunMo\n",
      "Intel One Mono\n"
     ]
    }
   ],
   "source": [
    "list1 = pltfont.list_fonts()"
   ]
  },
  {
   "cell_type": "code",
   "execution_count": 6,
   "id": "eccbf2b0",
   "metadata": {},
   "outputs": [
    {
     "data": {
      "text/plain": [
       "['distribution_centers_gzip.parquet',\n",
       " 'inventory_items_gzip.parquet',\n",
       " 'order_items_gzip.parquet',\n",
       " 'orders_gzip.parquet',\n",
       " 'products_gzip.parquet',\n",
       " 'users_gzip.parquet']"
      ]
     },
     "execution_count": 6,
     "metadata": {},
     "output_type": "execute_result"
    }
   ],
   "source": [
    "data_path = \"/Users/jun/GitStudy/commerceAB/data/thelook_ecommerce\"\n",
    "data_list = os.listdir(data_path)\n",
    "data_list.sort()\n",
    "data_list"
   ]
  },
  {
   "cell_type": "code",
   "execution_count": 7,
   "id": "0e936360",
   "metadata": {},
   "outputs": [
    {
     "data": {
      "text/plain": [
       "['distribution_centers',\n",
       " 'inventory_items',\n",
       " 'order_items',\n",
       " 'orders',\n",
       " 'products',\n",
       " 'users']"
      ]
     },
     "execution_count": 7,
     "metadata": {},
     "output_type": "execute_result"
    }
   ],
   "source": [
    "cols = [i.rstrip(\"_gzip.parquet\") for i in data_list ]\n",
    "\n",
    "cols"
   ]
  },
  {
   "cell_type": "code",
   "execution_count": 8,
   "id": "8f680b69",
   "metadata": {},
   "outputs": [],
   "source": [
    "users_file_path = data_path + \"/users_gzip.parquet\"\n",
    "users_df = pd.read_parquet(users_file_path, engine='pyarrow')  # 또는 engine='fastparquet'"
   ]
  },
  {
   "cell_type": "code",
   "execution_count": 9,
   "id": "d9a078d3",
   "metadata": {},
   "outputs": [
    {
     "name": "stdout",
     "output_type": "stream",
     "text": [
      "<class 'pandas.core.frame.DataFrame'>\n",
      "RangeIndex: 100000 entries, 0 to 99999\n",
      "Data columns (total 7 columns):\n",
      " #   Column          Non-Null Count   Dtype              \n",
      "---  ------          --------------   -----              \n",
      " 0   id              100000 non-null  Int64              \n",
      " 1   age             100000 non-null  Int64              \n",
      " 2   gender          100000 non-null  object             \n",
      " 3   state           100000 non-null  object             \n",
      " 4   city            100000 non-null  object             \n",
      " 5   created_at      100000 non-null  datetime64[ns, UTC]\n",
      " 6   traffic_source  100000 non-null  object             \n",
      "dtypes: Int64(2), datetime64[ns, UTC](1), object(4)\n",
      "memory usage: 5.5+ MB\n"
     ]
    }
   ],
   "source": [
    "users_df.info()"
   ]
  },
  {
   "cell_type": "code",
   "execution_count": 10,
   "id": "b6f512e0",
   "metadata": {},
   "outputs": [
    {
     "data": {
      "text/html": [
       "<div>\n",
       "<style scoped>\n",
       "    .dataframe tbody tr th:only-of-type {\n",
       "        vertical-align: middle;\n",
       "    }\n",
       "\n",
       "    .dataframe tbody tr th {\n",
       "        vertical-align: top;\n",
       "    }\n",
       "\n",
       "    .dataframe thead th {\n",
       "        text-align: right;\n",
       "    }\n",
       "</style>\n",
       "<table border=\"1\" class=\"dataframe\">\n",
       "  <thead>\n",
       "    <tr style=\"text-align: right;\">\n",
       "      <th></th>\n",
       "      <th>id</th>\n",
       "      <th>age</th>\n",
       "      <th>gender</th>\n",
       "      <th>state</th>\n",
       "      <th>city</th>\n",
       "      <th>created_at</th>\n",
       "      <th>traffic_source</th>\n",
       "    </tr>\n",
       "  </thead>\n",
       "  <tbody>\n",
       "    <tr>\n",
       "      <th>count</th>\n",
       "      <td>100000.0</td>\n",
       "      <td>100000.0</td>\n",
       "      <td>100000</td>\n",
       "      <td>100000</td>\n",
       "      <td>100000</td>\n",
       "      <td>100000</td>\n",
       "      <td>100000</td>\n",
       "    </tr>\n",
       "    <tr>\n",
       "      <th>unique</th>\n",
       "      <td>&lt;NA&gt;</td>\n",
       "      <td>&lt;NA&gt;</td>\n",
       "      <td>2</td>\n",
       "      <td>229</td>\n",
       "      <td>7861</td>\n",
       "      <td>NaN</td>\n",
       "      <td>5</td>\n",
       "    </tr>\n",
       "    <tr>\n",
       "      <th>top</th>\n",
       "      <td>&lt;NA&gt;</td>\n",
       "      <td>&lt;NA&gt;</td>\n",
       "      <td>F</td>\n",
       "      <td>Guangdong</td>\n",
       "      <td>Shanghai</td>\n",
       "      <td>NaN</td>\n",
       "      <td>Search</td>\n",
       "    </tr>\n",
       "    <tr>\n",
       "      <th>freq</th>\n",
       "      <td>&lt;NA&gt;</td>\n",
       "      <td>&lt;NA&gt;</td>\n",
       "      <td>50142</td>\n",
       "      <td>5282</td>\n",
       "      <td>2498</td>\n",
       "      <td>NaN</td>\n",
       "      <td>70086</td>\n",
       "    </tr>\n",
       "    <tr>\n",
       "      <th>mean</th>\n",
       "      <td>50000.5</td>\n",
       "      <td>41.0062</td>\n",
       "      <td>NaN</td>\n",
       "      <td>NaN</td>\n",
       "      <td>NaN</td>\n",
       "      <td>2022-06-18 18:28:22.912000768+00:00</td>\n",
       "      <td>NaN</td>\n",
       "    </tr>\n",
       "    <tr>\n",
       "      <th>min</th>\n",
       "      <td>1.0</td>\n",
       "      <td>12.0</td>\n",
       "      <td>NaN</td>\n",
       "      <td>NaN</td>\n",
       "      <td>NaN</td>\n",
       "      <td>2019-01-02 01:00:00+00:00</td>\n",
       "      <td>NaN</td>\n",
       "    </tr>\n",
       "    <tr>\n",
       "      <th>25%</th>\n",
       "      <td>25000.75</td>\n",
       "      <td>26.0</td>\n",
       "      <td>NaN</td>\n",
       "      <td>NaN</td>\n",
       "      <td>NaN</td>\n",
       "      <td>2020-09-22 04:19:30+00:00</td>\n",
       "      <td>NaN</td>\n",
       "    </tr>\n",
       "    <tr>\n",
       "      <th>50%</th>\n",
       "      <td>50000.5</td>\n",
       "      <td>41.0</td>\n",
       "      <td>NaN</td>\n",
       "      <td>NaN</td>\n",
       "      <td>NaN</td>\n",
       "      <td>2022-06-19 04:15:00+00:00</td>\n",
       "      <td>NaN</td>\n",
       "    </tr>\n",
       "    <tr>\n",
       "      <th>75%</th>\n",
       "      <td>75000.25</td>\n",
       "      <td>56.0</td>\n",
       "      <td>NaN</td>\n",
       "      <td>NaN</td>\n",
       "      <td>NaN</td>\n",
       "      <td>2024-03-14 09:05:15+00:00</td>\n",
       "      <td>NaN</td>\n",
       "    </tr>\n",
       "    <tr>\n",
       "      <th>max</th>\n",
       "      <td>100000.0</td>\n",
       "      <td>70.0</td>\n",
       "      <td>NaN</td>\n",
       "      <td>NaN</td>\n",
       "      <td>NaN</td>\n",
       "      <td>2025-10-07 19:32:25.712857+00:00</td>\n",
       "      <td>NaN</td>\n",
       "    </tr>\n",
       "    <tr>\n",
       "      <th>std</th>\n",
       "      <td>28867.657797</td>\n",
       "      <td>17.007438</td>\n",
       "      <td>NaN</td>\n",
       "      <td>NaN</td>\n",
       "      <td>NaN</td>\n",
       "      <td>NaN</td>\n",
       "      <td>NaN</td>\n",
       "    </tr>\n",
       "  </tbody>\n",
       "</table>\n",
       "</div>"
      ],
      "text/plain": [
       "                  id        age  gender      state      city  \\\n",
       "count       100000.0   100000.0  100000     100000    100000   \n",
       "unique          <NA>       <NA>       2        229      7861   \n",
       "top             <NA>       <NA>       F  Guangdong  Shanghai   \n",
       "freq            <NA>       <NA>   50142       5282      2498   \n",
       "mean         50000.5    41.0062     NaN        NaN       NaN   \n",
       "min              1.0       12.0     NaN        NaN       NaN   \n",
       "25%         25000.75       26.0     NaN        NaN       NaN   \n",
       "50%          50000.5       41.0     NaN        NaN       NaN   \n",
       "75%         75000.25       56.0     NaN        NaN       NaN   \n",
       "max         100000.0       70.0     NaN        NaN       NaN   \n",
       "std     28867.657797  17.007438     NaN        NaN       NaN   \n",
       "\n",
       "                                 created_at traffic_source  \n",
       "count                                100000         100000  \n",
       "unique                                  NaN              5  \n",
       "top                                     NaN         Search  \n",
       "freq                                    NaN          70086  \n",
       "mean    2022-06-18 18:28:22.912000768+00:00            NaN  \n",
       "min               2019-01-02 01:00:00+00:00            NaN  \n",
       "25%               2020-09-22 04:19:30+00:00            NaN  \n",
       "50%               2022-06-19 04:15:00+00:00            NaN  \n",
       "75%               2024-03-14 09:05:15+00:00            NaN  \n",
       "max        2025-10-07 19:32:25.712857+00:00            NaN  \n",
       "std                                     NaN            NaN  "
      ]
     },
     "execution_count": 10,
     "metadata": {},
     "output_type": "execute_result"
    }
   ],
   "source": [
    "users_df.describe(include='all',datetime_is_numeric=True)"
   ]
  },
  {
   "cell_type": "code",
   "execution_count": 11,
   "id": "9d2bdfab",
   "metadata": {},
   "outputs": [
    {
     "data": {
      "text/plain": [
       "id                0\n",
       "age               0\n",
       "gender            0\n",
       "state             0\n",
       "city              0\n",
       "created_at        0\n",
       "traffic_source    0\n",
       "dtype: int64"
      ]
     },
     "execution_count": 11,
     "metadata": {},
     "output_type": "execute_result"
    }
   ],
   "source": [
    "users_df.isnull().sum()"
   ]
  },
  {
   "cell_type": "code",
   "execution_count": 12,
   "id": "c9c6a059",
   "metadata": {},
   "outputs": [
    {
     "data": {
      "image/png": "[encoded data removed]",
      "text/plain": [
       "<Figure size 800x500 with 1 Axes>"
      ]
     },
     "metadata": {},
     "output_type": "display_data"
    }
   ],
   "source": [
    "plt.figure(figsize=(8,5))  # 전체 그림 크기 지정\n",
    "sns.heatmap(users_df.isnull(), cbar=False)\n",
    "plt.xticks(rotation=27)  # x축 라벨 기울이기\n",
    "plt.show()"
   ]
  }
 ],
 "metadata": {
  "kernelspec": {
   "display_name": "leo4study",
   "language": "python",
   "name": "python3"
  },
  "language_info": {
   "codemirror_mode": {
    "name": "ipython",
    "version": 3
   },
   "file_extension": ".py",
   "mimetype": "text/x-python",
   "name": "python",
   "nbconvert_exporter": "python",
   "pygments_lexer": "ipython3",
   "version": "3.11.9"
  }
 },
 "nbformat": 4,
 "nbformat_minor": 5
}
