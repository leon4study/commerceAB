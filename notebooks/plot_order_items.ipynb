{
 "cells": [
  {
   "cell_type": "code",
   "execution_count": 17,
   "id": "a7a27973",
   "metadata": {},
   "outputs": [
    {
     "name": "stdout",
     "output_type": "stream",
     "text": [
      "Using font : {self.ttf_path}\n",
      "Set font to: Arial Unicode MS\n"
     ]
    }
   ],
   "source": [
    "import os\n",
    "import pandas as pd \n",
    "import numpy \n",
    "import matplotlib.pyplot as plt\n",
    "import seaborn as sns\n",
    "from pltKorean_mac2 import Fontmanager\n",
    "\n",
    "Fontmanager().set_font()"
   ]
  },
  {
   "cell_type": "code",
   "execution_count": 2,
   "id": "eccbf2b0",
   "metadata": {},
   "outputs": [
    {
     "data": {
      "text/plain": [
       "['distribution_centers_gzip.parquet',\n",
       " 'inventory_items_gzip.parquet',\n",
       " 'order_items_gzip.parquet',\n",
       " 'orders_gzip.parquet',\n",
       " 'products_gzip.parquet',\n",
       " 'users_gzip.parquet']"
      ]
     },
     "execution_count": 2,
     "metadata": {},
     "output_type": "execute_result"
    }
   ],
   "source": [
    "data_path = \"/Users/jun/GitStudy/commerceAB/data/thelook_ecommerce\"\n",
    "data_list = os.listdir(data_path)\n",
    "data_list.sort()\n",
    "data_list"
   ]
  },
  {
   "cell_type": "code",
   "execution_count": 3,
   "id": "0e936360",
   "metadata": {},
   "outputs": [
    {
     "data": {
      "text/plain": [
       "['distribution_centers',\n",
       " 'inventory_items',\n",
       " 'order_items',\n",
       " 'orders',\n",
       " 'products',\n",
       " 'users']"
      ]
     },
     "execution_count": 3,
     "metadata": {},
     "output_type": "execute_result"
    }
   ],
   "source": [
    "cols = [i.rstrip(\"_gzip.parquet\") for i in data_list ]\n",
    "\n",
    "cols"
   ]
  },
  {
   "cell_type": "code",
   "execution_count": null,
   "id": "8f680b69",
   "metadata": {},
   "outputs": [],
   "source": [
    "order_items_file_path = data_path + \"/order_items_gzip.parquet\"\n",
    "order_items_df = pd.read_parquet(order_items_file_path, engine='pyarrow')  # 또는 engine='fastparquet'"
   ]
  },
  {
   "cell_type": "code",
   "execution_count": null,
   "id": "d9a078d3",
   "metadata": {},
   "outputs": [
    {
     "name": "stdout",
     "output_type": "stream",
     "text": [
      "<class 'pandas.core.frame.DataFrame'>\n",
      "RangeIndex: 124599 entries, 0 to 124598\n",
      "Data columns (total 9 columns):\n",
      " #   Column        Non-Null Count   Dtype              \n",
      "---  ------        --------------   -----              \n",
      " 0   order_id      124599 non-null  Int64              \n",
      " 1   user_id       124599 non-null  Int64              \n",
      " 2   status        124599 non-null  object             \n",
      " 3   gender        124599 non-null  object             \n",
      " 4   created_at    124599 non-null  datetime64[ns, UTC]\n",
      " 5   returned_at   12589 non-null   datetime64[ns, UTC]\n",
      " 6   shipped_at    80886 non-null   datetime64[ns, UTC]\n",
      " 7   delivered_at  43700 non-null   datetime64[ns, UTC]\n",
      " 8   num_of_item   124599 non-null  Int64              \n",
      "dtypes: Int64(3), datetime64[ns, UTC](4), object(2)\n",
      "memory usage: 8.9+ MB\n"
     ]
    }
   ],
   "source": [
    "order_items_df.info()"
   ]
  },
  {
   "cell_type": "code",
   "execution_count": null,
   "id": "b6f512e0",
   "metadata": {},
   "outputs": [
    {
     "data": {
      "text/html": [
       "<div>\n",
       "<style scoped>\n",
       "    .dataframe tbody tr th:only-of-type {\n",
       "        vertical-align: middle;\n",
       "    }\n",
       "\n",
       "    .dataframe tbody tr th {\n",
       "        vertical-align: top;\n",
       "    }\n",
       "\n",
       "    .dataframe thead th {\n",
       "        text-align: right;\n",
       "    }\n",
       "</style>\n",
       "<table border=\"1\" class=\"dataframe\">\n",
       "  <thead>\n",
       "    <tr style=\"text-align: right;\">\n",
       "      <th></th>\n",
       "      <th>order_id</th>\n",
       "      <th>user_id</th>\n",
       "      <th>status</th>\n",
       "      <th>gender</th>\n",
       "      <th>created_at</th>\n",
       "      <th>returned_at</th>\n",
       "      <th>shipped_at</th>\n",
       "      <th>delivered_at</th>\n",
       "      <th>num_of_item</th>\n",
       "    </tr>\n",
       "  </thead>\n",
       "  <tbody>\n",
       "    <tr>\n",
       "      <th>count</th>\n",
       "      <td>124599.0</td>\n",
       "      <td>124599.0</td>\n",
       "      <td>124599</td>\n",
       "      <td>124599</td>\n",
       "      <td>124599</td>\n",
       "      <td>12589</td>\n",
       "      <td>80886</td>\n",
       "      <td>43700</td>\n",
       "      <td>124599.0</td>\n",
       "    </tr>\n",
       "    <tr>\n",
       "      <th>unique</th>\n",
       "      <td>&lt;NA&gt;</td>\n",
       "      <td>&lt;NA&gt;</td>\n",
       "      <td>5</td>\n",
       "      <td>2</td>\n",
       "      <td>NaN</td>\n",
       "      <td>NaN</td>\n",
       "      <td>NaN</td>\n",
       "      <td>NaN</td>\n",
       "      <td>&lt;NA&gt;</td>\n",
       "    </tr>\n",
       "    <tr>\n",
       "      <th>top</th>\n",
       "      <td>&lt;NA&gt;</td>\n",
       "      <td>&lt;NA&gt;</td>\n",
       "      <td>Shipped</td>\n",
       "      <td>F</td>\n",
       "      <td>NaN</td>\n",
       "      <td>NaN</td>\n",
       "      <td>NaN</td>\n",
       "      <td>NaN</td>\n",
       "      <td>&lt;NA&gt;</td>\n",
       "    </tr>\n",
       "    <tr>\n",
       "      <th>freq</th>\n",
       "      <td>&lt;NA&gt;</td>\n",
       "      <td>&lt;NA&gt;</td>\n",
       "      <td>37186</td>\n",
       "      <td>62734</td>\n",
       "      <td>NaN</td>\n",
       "      <td>NaN</td>\n",
       "      <td>NaN</td>\n",
       "      <td>NaN</td>\n",
       "      <td>&lt;NA&gt;</td>\n",
       "    </tr>\n",
       "    <tr>\n",
       "      <th>mean</th>\n",
       "      <td>62300.0</td>\n",
       "      <td>49934.491208</td>\n",
       "      <td>NaN</td>\n",
       "      <td>NaN</td>\n",
       "      <td>2024-02-11 09:49:37.102870528+00:00</td>\n",
       "      <td>2024-02-17 09:36:46.777577472+00:00</td>\n",
       "      <td>2024-02-14 02:54:39.809930496+00:00</td>\n",
       "      <td>2024-02-15 12:59:05.400092672+00:00</td>\n",
       "      <td>1.450589</td>\n",
       "    </tr>\n",
       "    <tr>\n",
       "      <th>min</th>\n",
       "      <td>1.0</td>\n",
       "      <td>1.0</td>\n",
       "      <td>NaN</td>\n",
       "      <td>NaN</td>\n",
       "      <td>2019-01-13 17:33:00+00:00</td>\n",
       "      <td>2019-01-18 07:54:00+00:00</td>\n",
       "      <td>2019-01-14 05:45:00+00:00</td>\n",
       "      <td>2019-01-15 16:18:00+00:00</td>\n",
       "      <td>1.0</td>\n",
       "    </tr>\n",
       "    <tr>\n",
       "      <th>25%</th>\n",
       "      <td>31150.5</td>\n",
       "      <td>24990.0</td>\n",
       "      <td>NaN</td>\n",
       "      <td>NaN</td>\n",
       "      <td>2023-03-19 03:18:00+00:00</td>\n",
       "      <td>2023-03-26 01:17:00+00:00</td>\n",
       "      <td>2023-03-22 23:37:15+00:00</td>\n",
       "      <td>2023-03-25 02:18:00+00:00</td>\n",
       "      <td>1.0</td>\n",
       "    </tr>\n",
       "    <tr>\n",
       "      <th>50%</th>\n",
       "      <td>62300.0</td>\n",
       "      <td>49888.0</td>\n",
       "      <td>NaN</td>\n",
       "      <td>NaN</td>\n",
       "      <td>2024-07-20 17:13:00+00:00</td>\n",
       "      <td>2024-07-22 00:07:00+00:00</td>\n",
       "      <td>2024-07-24 07:39:00+00:00</td>\n",
       "      <td>2024-07-25 17:01:00+00:00</td>\n",
       "      <td>1.0</td>\n",
       "    </tr>\n",
       "    <tr>\n",
       "      <th>75%</th>\n",
       "      <td>93449.5</td>\n",
       "      <td>74925.0</td>\n",
       "      <td>NaN</td>\n",
       "      <td>NaN</td>\n",
       "      <td>2025-05-10 10:59:30+00:00</td>\n",
       "      <td>2025-05-12 21:08:00+00:00</td>\n",
       "      <td>2025-05-13 01:46:15+00:00</td>\n",
       "      <td>2025-05-14 17:03:00+00:00</td>\n",
       "      <td>2.0</td>\n",
       "    </tr>\n",
       "    <tr>\n",
       "      <th>max</th>\n",
       "      <td>124599.0</td>\n",
       "      <td>100000.0</td>\n",
       "      <td>NaN</td>\n",
       "      <td>NaN</td>\n",
       "      <td>2025-10-08 19:32:25.712857+00:00</td>\n",
       "      <td>2025-10-17 22:10:55.822944+00:00</td>\n",
       "      <td>2025-10-11 18:32:39.370171+00:00</td>\n",
       "      <td>2025-10-16 06:09:12.596329+00:00</td>\n",
       "      <td>4.0</td>\n",
       "    </tr>\n",
       "    <tr>\n",
       "      <th>std</th>\n",
       "      <td>35968.777433</td>\n",
       "      <td>28839.956752</td>\n",
       "      <td>NaN</td>\n",
       "      <td>NaN</td>\n",
       "      <td>NaN</td>\n",
       "      <td>NaN</td>\n",
       "      <td>NaN</td>\n",
       "      <td>NaN</td>\n",
       "      <td>0.806031</td>\n",
       "    </tr>\n",
       "  </tbody>\n",
       "</table>\n",
       "</div>"
      ],
      "text/plain": [
       "            order_id       user_id   status  gender  \\\n",
       "count       124599.0      124599.0   124599  124599   \n",
       "unique          <NA>          <NA>        5       2   \n",
       "top             <NA>          <NA>  Shipped       F   \n",
       "freq            <NA>          <NA>    37186   62734   \n",
       "mean         62300.0  49934.491208      NaN     NaN   \n",
       "min              1.0           1.0      NaN     NaN   \n",
       "25%          31150.5       24990.0      NaN     NaN   \n",
       "50%          62300.0       49888.0      NaN     NaN   \n",
       "75%          93449.5       74925.0      NaN     NaN   \n",
       "max         124599.0      100000.0      NaN     NaN   \n",
       "std     35968.777433  28839.956752      NaN     NaN   \n",
       "\n",
       "                                 created_at  \\\n",
       "count                                124599   \n",
       "unique                                  NaN   \n",
       "top                                     NaN   \n",
       "freq                                    NaN   \n",
       "mean    2024-02-11 09:49:37.102870528+00:00   \n",
       "min               2019-01-13 17:33:00+00:00   \n",
       "25%               2023-03-19 03:18:00+00:00   \n",
       "50%               2024-07-20 17:13:00+00:00   \n",
       "75%               2025-05-10 10:59:30+00:00   \n",
       "max        2025-10-08 19:32:25.712857+00:00   \n",
       "std                                     NaN   \n",
       "\n",
       "                                returned_at  \\\n",
       "count                                 12589   \n",
       "unique                                  NaN   \n",
       "top                                     NaN   \n",
       "freq                                    NaN   \n",
       "mean    2024-02-17 09:36:46.777577472+00:00   \n",
       "min               2019-01-18 07:54:00+00:00   \n",
       "25%               2023-03-26 01:17:00+00:00   \n",
       "50%               2024-07-22 00:07:00+00:00   \n",
       "75%               2025-05-12 21:08:00+00:00   \n",
       "max        2025-10-17 22:10:55.822944+00:00   \n",
       "std                                     NaN   \n",
       "\n",
       "                                 shipped_at  \\\n",
       "count                                 80886   \n",
       "unique                                  NaN   \n",
       "top                                     NaN   \n",
       "freq                                    NaN   \n",
       "mean    2024-02-14 02:54:39.809930496+00:00   \n",
       "min               2019-01-14 05:45:00+00:00   \n",
       "25%               2023-03-22 23:37:15+00:00   \n",
       "50%               2024-07-24 07:39:00+00:00   \n",
       "75%               2025-05-13 01:46:15+00:00   \n",
       "max        2025-10-11 18:32:39.370171+00:00   \n",
       "std                                     NaN   \n",
       "\n",
       "                               delivered_at  num_of_item  \n",
       "count                                 43700     124599.0  \n",
       "unique                                  NaN         <NA>  \n",
       "top                                     NaN         <NA>  \n",
       "freq                                    NaN         <NA>  \n",
       "mean    2024-02-15 12:59:05.400092672+00:00     1.450589  \n",
       "min               2019-01-15 16:18:00+00:00          1.0  \n",
       "25%               2023-03-25 02:18:00+00:00          1.0  \n",
       "50%               2024-07-25 17:01:00+00:00          1.0  \n",
       "75%               2025-05-14 17:03:00+00:00          2.0  \n",
       "max        2025-10-16 06:09:12.596329+00:00          4.0  \n",
       "std                                     NaN     0.806031  "
      ]
     },
     "execution_count": 14,
     "metadata": {},
     "output_type": "execute_result"
    }
   ],
   "source": [
    "order_items_df.describe(include='all',datetime_is_numeric=True)"
   ]
  },
  {
   "cell_type": "code",
   "execution_count": null,
   "id": "9d2bdfab",
   "metadata": {},
   "outputs": [
    {
     "data": {
      "text/plain": [
       "order_id             0\n",
       "user_id              0\n",
       "status               0\n",
       "gender               0\n",
       "created_at           0\n",
       "returned_at     112010\n",
       "shipped_at       43713\n",
       "delivered_at     80899\n",
       "num_of_item          0\n",
       "dtype: int64"
      ]
     },
     "execution_count": 7,
     "metadata": {},
     "output_type": "execute_result"
    }
   ],
   "source": [
    "order_items_df.isnull().sum()"
   ]
  },
  {
   "cell_type": "code",
   "execution_count": null,
   "id": "c9c6a059",
   "metadata": {},
   "outputs": [
    {
     "data": {
      "image/png": "[encoded data removed]",
      "text/plain": [
       "<Figure size 800x500 with 1 Axes>"
      ]
     },
     "metadata": {},
     "output_type": "display_data"
    }
   ],
   "source": [
    "plt.figure(figsize=(8,5))  # 전체 그림 크기 지정\n",
    "sns.heatmap(order_items_df.isnull(), cbar=False)\n",
    "plt.xticks(rotation=27)  # x축 라벨 기울이기\n",
    "plt.show()"
   ]
  }
 ],
 "metadata": {
  "kernelspec": {
   "display_name": "leo4study",
   "language": "python",
   "name": "python3"
  },
  "language_info": {
   "codemirror_mode": {
    "name": "ipython",
    "version": 3
   },
   "file_extension": ".py",
   "mimetype": "text/x-python",
   "name": "python",
   "nbconvert_exporter": "python",
   "pygments_lexer": "ipython3",
   "version": "3.11.9"
  }
 },
 "nbformat": 4,
 "nbformat_minor": 5
}
