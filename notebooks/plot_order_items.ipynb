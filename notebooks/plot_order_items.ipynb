{
 "cells": [
  {
   "cell_type": "code",
   "execution_count": null,
   "id": "a7a27973",
   "metadata": {},
   "outputs": [
    {
     "name": "stdout",
     "output_type": "stream",
     "text": [
      "✅ 현재 폰트 적용됨: Arial Unicode MS\n"
     ]
    },
    {
     "data": {
      "text/plain": [
       "<pltfont.FontManager at 0x312f3acd0>"
      ]
     },
     "execution_count": 9,
     "metadata": {},
     "output_type": "execute_result"
    }
   ],
   "source": [
    "import os\n",
    "import pandas as pd \n",
    "import numpy \n",
    "import matplotlib.pyplot as plt\n",
    "import seaborn as sns\n",
    "import pltfont\n",
    "pltfont.auto()"
   ]
  },
  {
   "cell_type": "code",
   "execution_count": 10,
   "id": "eccbf2b0",
   "metadata": {},
   "outputs": [
    {
     "data": {
      "text/plain": [
       "['distribution_centers_gzip.parquet',\n",
       " 'inventory_items_gzip.parquet',\n",
       " 'order_items_gzip.parquet',\n",
       " 'orders_gzip.parquet',\n",
       " 'products_gzip.parquet',\n",
       " 'users_gzip.parquet']"
      ]
     },
     "execution_count": 10,
     "metadata": {},
     "output_type": "execute_result"
    }
   ],
   "source": [
    "data_path = \"/Users/jun/GitStudy/commerceAB/data/thelook_ecommerce\"\n",
    "data_list = os.listdir(data_path)\n",
    "data_list.sort()\n",
    "data_list"
   ]
  },
  {
   "cell_type": "code",
   "execution_count": 11,
   "id": "0e936360",
   "metadata": {},
   "outputs": [
    {
     "data": {
      "text/plain": [
       "['distribution_centers',\n",
       " 'inventory_items',\n",
       " 'order_items',\n",
       " 'orders',\n",
       " 'products',\n",
       " 'users']"
      ]
     },
     "execution_count": 11,
     "metadata": {},
     "output_type": "execute_result"
    }
   ],
   "source": [
    "cols = [i.rstrip(\"_gzip.parquet\") for i in data_list ]\n",
    "\n",
    "cols"
   ]
  },
  {
   "cell_type": "code",
   "execution_count": 12,
   "id": "8f680b69",
   "metadata": {},
   "outputs": [],
   "source": [
    "order_items_file_path = data_path + \"/order_items_gzip.parquet\"\n",
    "order_items_df = pd.read_parquet(order_items_file_path, engine='pyarrow')  # 또는 engine='fastparquet'"
   ]
  },
  {
   "cell_type": "code",
   "execution_count": 13,
   "id": "d9a078d3",
   "metadata": {},
   "outputs": [
    {
     "name": "stdout",
     "output_type": "stream",
     "text": [
      "<class 'pandas.core.frame.DataFrame'>\n",
      "RangeIndex: 180742 entries, 0 to 180741\n",
      "Data columns (total 11 columns):\n",
      " #   Column             Non-Null Count   Dtype              \n",
      "---  ------             --------------   -----              \n",
      " 0   id                 180742 non-null  Int64              \n",
      " 1   order_id           180742 non-null  Int64              \n",
      " 2   user_id            180742 non-null  Int64              \n",
      " 3   product_id         180742 non-null  Int64              \n",
      " 4   inventory_item_id  180742 non-null  Int64              \n",
      " 5   status             180742 non-null  object             \n",
      " 6   created_at         180742 non-null  datetime64[ns, UTC]\n",
      " 7   shipped_at         117374 non-null  datetime64[ns, UTC]\n",
      " 8   delivered_at       63309 non-null   datetime64[ns, UTC]\n",
      " 9   returned_at        18216 non-null   datetime64[ns, UTC]\n",
      " 10  sale_price         180742 non-null  float64            \n",
      "dtypes: Int64(5), datetime64[ns, UTC](4), float64(1), object(1)\n",
      "memory usage: 16.0+ MB\n"
     ]
    }
   ],
   "source": [
    "order_items_df.info()"
   ]
  },
  {
   "cell_type": "code",
   "execution_count": 14,
   "id": "b6f512e0",
   "metadata": {},
   "outputs": [
    {
     "data": {
      "text/html": [
       "<div>\n",
       "<style scoped>\n",
       "    .dataframe tbody tr th:only-of-type {\n",
       "        vertical-align: middle;\n",
       "    }\n",
       "\n",
       "    .dataframe tbody tr th {\n",
       "        vertical-align: top;\n",
       "    }\n",
       "\n",
       "    .dataframe thead th {\n",
       "        text-align: right;\n",
       "    }\n",
       "</style>\n",
       "<table border=\"1\" class=\"dataframe\">\n",
       "  <thead>\n",
       "    <tr style=\"text-align: right;\">\n",
       "      <th></th>\n",
       "      <th>id</th>\n",
       "      <th>order_id</th>\n",
       "      <th>user_id</th>\n",
       "      <th>product_id</th>\n",
       "      <th>inventory_item_id</th>\n",
       "      <th>status</th>\n",
       "      <th>created_at</th>\n",
       "      <th>shipped_at</th>\n",
       "      <th>delivered_at</th>\n",
       "      <th>returned_at</th>\n",
       "      <th>sale_price</th>\n",
       "    </tr>\n",
       "  </thead>\n",
       "  <tbody>\n",
       "    <tr>\n",
       "      <th>count</th>\n",
       "      <td>180742.0</td>\n",
       "      <td>180742.0</td>\n",
       "      <td>180742.0</td>\n",
       "      <td>180742.0</td>\n",
       "      <td>180742.0</td>\n",
       "      <td>180742</td>\n",
       "      <td>180742</td>\n",
       "      <td>117374</td>\n",
       "      <td>63309</td>\n",
       "      <td>18216</td>\n",
       "      <td>180742.000000</td>\n",
       "    </tr>\n",
       "    <tr>\n",
       "      <th>unique</th>\n",
       "      <td>&lt;NA&gt;</td>\n",
       "      <td>&lt;NA&gt;</td>\n",
       "      <td>&lt;NA&gt;</td>\n",
       "      <td>&lt;NA&gt;</td>\n",
       "      <td>&lt;NA&gt;</td>\n",
       "      <td>5</td>\n",
       "      <td>NaN</td>\n",
       "      <td>NaN</td>\n",
       "      <td>NaN</td>\n",
       "      <td>NaN</td>\n",
       "      <td>NaN</td>\n",
       "    </tr>\n",
       "    <tr>\n",
       "      <th>top</th>\n",
       "      <td>&lt;NA&gt;</td>\n",
       "      <td>&lt;NA&gt;</td>\n",
       "      <td>&lt;NA&gt;</td>\n",
       "      <td>&lt;NA&gt;</td>\n",
       "      <td>&lt;NA&gt;</td>\n",
       "      <td>Shipped</td>\n",
       "      <td>NaN</td>\n",
       "      <td>NaN</td>\n",
       "      <td>NaN</td>\n",
       "      <td>NaN</td>\n",
       "      <td>NaN</td>\n",
       "    </tr>\n",
       "    <tr>\n",
       "      <th>freq</th>\n",
       "      <td>&lt;NA&gt;</td>\n",
       "      <td>&lt;NA&gt;</td>\n",
       "      <td>&lt;NA&gt;</td>\n",
       "      <td>&lt;NA&gt;</td>\n",
       "      <td>&lt;NA&gt;</td>\n",
       "      <td>54065</td>\n",
       "      <td>NaN</td>\n",
       "      <td>NaN</td>\n",
       "      <td>NaN</td>\n",
       "      <td>NaN</td>\n",
       "      <td>NaN</td>\n",
       "    </tr>\n",
       "    <tr>\n",
       "      <th>mean</th>\n",
       "      <td>90371.5</td>\n",
       "      <td>62305.0363</td>\n",
       "      <td>49938.669855</td>\n",
       "      <td>15241.888725</td>\n",
       "      <td>243741.685402</td>\n",
       "      <td>NaN</td>\n",
       "      <td>2024-02-12 20:50:03.705213184+00:00</td>\n",
       "      <td>2024-02-14 21:39:40.530685440+00:00</td>\n",
       "      <td>2024-02-16 12:14:49.825514496+00:00</td>\n",
       "      <td>2024-02-12 20:56:21.712554240+00:00</td>\n",
       "      <td>59.608965</td>\n",
       "    </tr>\n",
       "    <tr>\n",
       "      <th>min</th>\n",
       "      <td>1.0</td>\n",
       "      <td>1.0</td>\n",
       "      <td>1.0</td>\n",
       "      <td>1.0</td>\n",
       "      <td>2.0</td>\n",
       "      <td>NaN</td>\n",
       "      <td>2019-01-13 15:19:13+00:00</td>\n",
       "      <td>2019-01-14 05:45:00+00:00</td>\n",
       "      <td>2019-01-15 16:18:00+00:00</td>\n",
       "      <td>2019-01-18 07:54:00+00:00</td>\n",
       "      <td>0.020000</td>\n",
       "    </tr>\n",
       "    <tr>\n",
       "      <th>25%</th>\n",
       "      <td>45186.25</td>\n",
       "      <td>31004.0</td>\n",
       "      <td>24871.0</td>\n",
       "      <td>7971.25</td>\n",
       "      <td>121986.0</td>\n",
       "      <td>NaN</td>\n",
       "      <td>2023-03-19 06:26:50.500000+00:00</td>\n",
       "      <td>2023-03-23 08:35:15+00:00</td>\n",
       "      <td>2023-03-27 14:48:00+00:00</td>\n",
       "      <td>2023-03-20 20:38:15+00:00</td>\n",
       "      <td>24.690001</td>\n",
       "    </tr>\n",
       "    <tr>\n",
       "      <th>50%</th>\n",
       "      <td>90371.5</td>\n",
       "      <td>62302.5</td>\n",
       "      <td>49889.5</td>\n",
       "      <td>15899.0</td>\n",
       "      <td>243677.0</td>\n",
       "      <td>NaN</td>\n",
       "      <td>2024-07-24 03:23:47.500000+00:00</td>\n",
       "      <td>2024-07-28 04:30:30+00:00</td>\n",
       "      <td>2024-07-28 19:02:00+00:00</td>\n",
       "      <td>2024-07-16 23:34:00+00:00</td>\n",
       "      <td>39.990002</td>\n",
       "    </tr>\n",
       "    <tr>\n",
       "      <th>75%</th>\n",
       "      <td>135556.75</td>\n",
       "      <td>93604.75</td>\n",
       "      <td>75046.0</td>\n",
       "      <td>22509.0</td>\n",
       "      <td>365545.5</td>\n",
       "      <td>NaN</td>\n",
       "      <td>2025-05-12 00:32:33+00:00</td>\n",
       "      <td>2025-05-13 15:00:00+00:00</td>\n",
       "      <td>2025-05-15 06:53:00+00:00</td>\n",
       "      <td>2025-05-10 19:53:45+00:00</td>\n",
       "      <td>69.949997</td>\n",
       "    </tr>\n",
       "    <tr>\n",
       "      <th>max</th>\n",
       "      <td>180742.0</td>\n",
       "      <td>124599.0</td>\n",
       "      <td>100000.0</td>\n",
       "      <td>29120.0</td>\n",
       "      <td>487586.0</td>\n",
       "      <td>NaN</td>\n",
       "      <td>2025-10-12 19:08:45.657725+00:00</td>\n",
       "      <td>2025-10-11 18:32:39.370171+00:00</td>\n",
       "      <td>2025-10-16 06:09:12.596329+00:00</td>\n",
       "      <td>2025-10-17 22:10:55.822944+00:00</td>\n",
       "      <td>999.000000</td>\n",
       "    </tr>\n",
       "    <tr>\n",
       "      <th>std</th>\n",
       "      <td>52175.865514</td>\n",
       "      <td>36047.212662</td>\n",
       "      <td>28902.872631</td>\n",
       "      <td>8407.648384</td>\n",
       "      <td>140706.621928</td>\n",
       "      <td>NaN</td>\n",
       "      <td>NaN</td>\n",
       "      <td>NaN</td>\n",
       "      <td>NaN</td>\n",
       "      <td>NaN</td>\n",
       "      <td>66.167812</td>\n",
       "    </tr>\n",
       "  </tbody>\n",
       "</table>\n",
       "</div>"
      ],
      "text/plain": [
       "                  id      order_id       user_id    product_id  \\\n",
       "count       180742.0      180742.0      180742.0      180742.0   \n",
       "unique          <NA>          <NA>          <NA>          <NA>   \n",
       "top             <NA>          <NA>          <NA>          <NA>   \n",
       "freq            <NA>          <NA>          <NA>          <NA>   \n",
       "mean         90371.5    62305.0363  49938.669855  15241.888725   \n",
       "min              1.0           1.0           1.0           1.0   \n",
       "25%         45186.25       31004.0       24871.0       7971.25   \n",
       "50%          90371.5       62302.5       49889.5       15899.0   \n",
       "75%        135556.75      93604.75       75046.0       22509.0   \n",
       "max         180742.0      124599.0      100000.0       29120.0   \n",
       "std     52175.865514  36047.212662  28902.872631   8407.648384   \n",
       "\n",
       "        inventory_item_id   status                           created_at  \\\n",
       "count            180742.0   180742                               180742   \n",
       "unique               <NA>        5                                  NaN   \n",
       "top                  <NA>  Shipped                                  NaN   \n",
       "freq                 <NA>    54065                                  NaN   \n",
       "mean        243741.685402      NaN  2024-02-12 20:50:03.705213184+00:00   \n",
       "min                   2.0      NaN            2019-01-13 15:19:13+00:00   \n",
       "25%              121986.0      NaN     2023-03-19 06:26:50.500000+00:00   \n",
       "50%              243677.0      NaN     2024-07-24 03:23:47.500000+00:00   \n",
       "75%              365545.5      NaN            2025-05-12 00:32:33+00:00   \n",
       "max              487586.0      NaN     2025-10-12 19:08:45.657725+00:00   \n",
       "std         140706.621928      NaN                                  NaN   \n",
       "\n",
       "                                 shipped_at  \\\n",
       "count                                117374   \n",
       "unique                                  NaN   \n",
       "top                                     NaN   \n",
       "freq                                    NaN   \n",
       "mean    2024-02-14 21:39:40.530685440+00:00   \n",
       "min               2019-01-14 05:45:00+00:00   \n",
       "25%               2023-03-23 08:35:15+00:00   \n",
       "50%               2024-07-28 04:30:30+00:00   \n",
       "75%               2025-05-13 15:00:00+00:00   \n",
       "max        2025-10-11 18:32:39.370171+00:00   \n",
       "std                                     NaN   \n",
       "\n",
       "                               delivered_at  \\\n",
       "count                                 63309   \n",
       "unique                                  NaN   \n",
       "top                                     NaN   \n",
       "freq                                    NaN   \n",
       "mean    2024-02-16 12:14:49.825514496+00:00   \n",
       "min               2019-01-15 16:18:00+00:00   \n",
       "25%               2023-03-27 14:48:00+00:00   \n",
       "50%               2024-07-28 19:02:00+00:00   \n",
       "75%               2025-05-15 06:53:00+00:00   \n",
       "max        2025-10-16 06:09:12.596329+00:00   \n",
       "std                                     NaN   \n",
       "\n",
       "                                returned_at     sale_price  \n",
       "count                                 18216  180742.000000  \n",
       "unique                                  NaN            NaN  \n",
       "top                                     NaN            NaN  \n",
       "freq                                    NaN            NaN  \n",
       "mean    2024-02-12 20:56:21.712554240+00:00      59.608965  \n",
       "min               2019-01-18 07:54:00+00:00       0.020000  \n",
       "25%               2023-03-20 20:38:15+00:00      24.690001  \n",
       "50%               2024-07-16 23:34:00+00:00      39.990002  \n",
       "75%               2025-05-10 19:53:45+00:00      69.949997  \n",
       "max        2025-10-17 22:10:55.822944+00:00     999.000000  \n",
       "std                                     NaN      66.167812  "
      ]
     },
     "execution_count": 14,
     "metadata": {},
     "output_type": "execute_result"
    }
   ],
   "source": [
    "order_items_df.describe(include='all',datetime_is_numeric=True)"
   ]
  },
  {
   "cell_type": "code",
   "execution_count": 15,
   "id": "9d2bdfab",
   "metadata": {},
   "outputs": [
    {
     "data": {
      "text/plain": [
       "id                        0\n",
       "order_id                  0\n",
       "user_id                   0\n",
       "product_id                0\n",
       "inventory_item_id         0\n",
       "status                    0\n",
       "created_at                0\n",
       "shipped_at            63368\n",
       "delivered_at         117433\n",
       "returned_at          162526\n",
       "sale_price                0\n",
       "dtype: int64"
      ]
     },
     "execution_count": 15,
     "metadata": {},
     "output_type": "execute_result"
    }
   ],
   "source": [
    "order_items_df.isnull().sum()"
   ]
  },
  {
   "cell_type": "code",
   "execution_count": 16,
   "id": "c9c6a059",
   "metadata": {},
   "outputs": [
    {
     "data": {
      "image/png": "[encoded data removed]",
      "text/plain": [
       "<Figure size 800x500 with 1 Axes>"
      ]
     },
     "metadata": {},
     "output_type": "display_data"
    }
   ],
   "source": [
    "plt.figure(figsize=(8,5))  # 전체 그림 크기 지정\n",
    "sns.heatmap(order_items_df.isnull(), cbar=False)\n",
    "plt.xticks(rotation=27)  # x축 라벨 기울이기\n",
    "plt.show()"
   ]
  }
 ],
 "metadata": {
  "kernelspec": {
   "display_name": "leo4study",
   "language": "python",
   "name": "python3"
  },
  "language_info": {
   "codemirror_mode": {
    "name": "ipython",
    "version": 3
   },
   "file_extension": ".py",
   "mimetype": "text/x-python",
   "name": "python",
   "nbconvert_exporter": "python",
   "pygments_lexer": "ipython3",
   "version": "3.11.9"
  }
 },
 "nbformat": 4,
 "nbformat_minor": 5
}
